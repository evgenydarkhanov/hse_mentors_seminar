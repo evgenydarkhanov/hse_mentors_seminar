{
  "nbformat": 4,
  "nbformat_minor": 0,
  "metadata": {
    "colab": {
      "provenance": []
    },
    "kernelspec": {
      "name": "python3",
      "display_name": "Python 3"
    },
    "language_info": {
      "name": "python"
    }
  },
  "cells": [
    {
      "cell_type": "code",
      "source": [
        "import os\n",
        "import numpy as np\n",
        "\n",
        "\n",
        "class MT:\n",
        "\n",
        "    # The coefficients for MT19937 are:\n",
        "    (w, N, M, r) = (32, 624, 397, 31)\n",
        "    MATRIX_A = 0x9908b0df\n",
        "    (u, d) = (11, 0xffffffff)\n",
        "    (s, b) = (7, 0x9d2c5680)\n",
        "    (t, c) = (15, 0xefc60000)\n",
        "    l = 18\n",
        "    f = 1812433253\n",
        "    (UPPER_MASK, LOWER_MASK) = (0x80000000, 0x7fffffff)\n",
        "\n",
        "    def __init__(self, seed=None):\n",
        "        if seed is None:\n",
        "            seed = int.from_bytes(os.urandom(4), 'big')\n",
        "\n",
        "        self.mt = np.zeros(MT.N, dtype=np.uint32)\n",
        "        self.mt[0] = seed\n",
        "\n",
        "        for i in range(1, MT.N):\n",
        "            mt_value = MT.f * (self.mt[i-1] ^ (self.mt[i-1] >> (MT.w - 2))) + i\n",
        "            self.mt[i] = mt_value\n",
        "\n",
        "        self.index = MT.N\n",
        "\n",
        "    def _twist(self):\n",
        "        for i in range(MT.N):\n",
        "            y = (self.mt[i] & MT.UPPER_MASK) | (self.mt[(i + 1) % MT.N] & MT.LOWER_MASK)\n",
        "            self.mt[i] = self.mt[(i + MT.M) % MT.N] ^ (y >> 1)\n",
        "            if y % 2 != 0:\n",
        "                self.mt[i] ^= MT.MATRIX_A\n",
        "\n",
        "    def random_int(self):\n",
        "        # twisting\n",
        "        if self.index >= self.N:\n",
        "            self._twist()\n",
        "            self.index = 0\n",
        "\n",
        "        # extracting\n",
        "        y = self.mt[self.index]\n",
        "\n",
        "        # tempering\n",
        "        y ^= (y >> MT.u) & MT.d\n",
        "        y ^= (y << MT.s) & MT.b\n",
        "        y ^= (y << MT.t) & MT.c\n",
        "        y ^= (y >> MT.l)\n",
        "        self.index += 1\n",
        "\n",
        "        return y"
      ],
      "metadata": {
        "id": "Ln1UAtTnYtG-"
      },
      "execution_count": null,
      "outputs": []
    },
    {
      "cell_type": "code",
      "source": [
        "mt = MT(12345)\n",
        "for i in range(10):\n",
        "    print(mt.random_int())"
      ],
      "metadata": {
        "colab": {
          "base_uri": "https://localhost:8080/"
        },
        "id": "u4WHZF-xOUHt",
        "outputId": "be1c6f30-ef0a-4501-d2a4-0488df136efe"
      },
      "execution_count": null,
      "outputs": [
        {
          "output_type": "stream",
          "name": "stdout",
          "text": [
            "3992670690\n",
            "3823185381\n",
            "1358822685\n",
            "561383553\n",
            "789925284\n",
            "170765737\n",
            "878579710\n",
            "3549516158\n",
            "2438360421\n",
            "2285257250\n"
          ]
        }
      ]
    },
    {
      "cell_type": "code",
      "source": [
        "import numpy as np\n",
        "\n",
        "\n",
        "mt = MT()\n",
        "\n",
        "num_samples = 20\n",
        "sample_size = 1000\n",
        "samples = []\n",
        "\n",
        "for i in range(num_samples):\n",
        "    samples.append([mt.random_int() for _ in range(sample_size)])\n",
        "\n",
        "# means = [np.mean(sample) for sample in samples]\n",
        "# stds = [np.std(sample) for sample in samples]\n",
        "# cvs = [(std/mean) * 100 for std, mean in zip(stds, means)]\n",
        "\n",
        "for i, sample in enumerate(samples):\n",
        "    mean = np.mean(sample)\n",
        "    std = np.std(sample)\n",
        "    cv = (std / mean) * 100\n",
        "    print(f\"{i}\\t{mean = }\\tstd = {std:.4f}\\tcv = {cv:.4f}%\")"
      ],
      "metadata": {
        "colab": {
          "base_uri": "https://localhost:8080/"
        },
        "id": "mr0gel7BzmL8",
        "outputId": "c3603986-607d-465d-fb4a-bafe1f735e78"
      },
      "execution_count": null,
      "outputs": [
        {
          "output_type": "stream",
          "name": "stdout",
          "text": [
            "0\tmean = 2111927429.596\tstd = 1242074139.7308\tcv = 58.8123%\n",
            "1\tmean = 2181751172.787\tstd = 1240319515.6084\tcv = 56.8497%\n",
            "2\tmean = 2071223834.493\tstd = 1247246311.0180\tcv = 60.2178%\n",
            "3\tmean = 2076005728.895\tstd = 1232491318.6458\tcv = 59.3684%\n",
            "4\tmean = 2210631321.212\tstd = 1233836881.9926\tcv = 55.8138%\n",
            "5\tmean = 2130278344.15\tstd = 1245855177.1205\tcv = 58.4832%\n",
            "6\tmean = 2120534155.503\tstd = 1219090360.1798\tcv = 57.4898%\n",
            "7\tmean = 2113656260.769\tstd = 1258430193.0591\tcv = 59.5381%\n",
            "8\tmean = 2122643572.214\tstd = 1236255741.1831\tcv = 58.2413%\n",
            "9\tmean = 2070549408.452\tstd = 1228472842.8669\tcv = 59.3308%\n",
            "10\tmean = 2093174074.567\tstd = 1242217680.9364\tcv = 59.3461%\n",
            "11\tmean = 2168113498.561\tstd = 1220868384.3413\tcv = 56.3102%\n",
            "12\tmean = 2129553842.841\tstd = 1241189282.9612\tcv = 58.2840%\n",
            "13\tmean = 2161409782.938\tstd = 1244001502.1300\tcv = 57.5551%\n",
            "14\tmean = 2089118543.467\tstd = 1265924417.9155\tcv = 60.5961%\n",
            "15\tmean = 2243130037.53\tstd = 1240719150.4373\tcv = 55.3120%\n",
            "16\tmean = 2161250161.658\tstd = 1239257307.0026\tcv = 57.3398%\n",
            "17\tmean = 2092018010.377\tstd = 1206631360.5775\tcv = 57.6779%\n",
            "18\tmean = 2168839589.125\tstd = 1252251994.1867\tcv = 57.7383%\n",
            "19\tmean = 2128267316.005\tstd = 1197651065.8500\tcv = 56.2735%\n"
          ]
        }
      ]
    },
    {
      "cell_type": "code",
      "source": [
        "import numpy as np\n",
        "from scipy.stats import chi2\n",
        "\n",
        "\n",
        "def chi_squared_test(sample, num_bins=10):\n",
        "    min_value = min(sample)\n",
        "    max_value = max(sample)\n",
        "\n",
        "    bin_width = (max_value - min_value) / num_bins\n",
        "\n",
        "    observed, _ = np.histogram(sample, bins=num_bins, range=(min_value, max_value))\n",
        "    expected = len(sample) / num_bins\n",
        "\n",
        "    chi_squared = np.sum(((observed - expected)**2) / expected)\n",
        "\n",
        "    p_value = 1 - chi2.cdf(chi_squared, df=num_bins-1)\n",
        "\n",
        "    return chi_squared, p_value\n",
        "\n",
        "\n",
        "for sample in samples:\n",
        "    chi_squared, p_value = chi_squared_test(sample)\n",
        "    if p_value < 0.05:\n",
        "        print(f\"p_value = {p_value:.4f}\\tГипотеза о равномерном распределении отвергается\")\n",
        "    else:\n",
        "        print(f\"p_value = {p_value:.4f}\\tГипотеза о равномерном распределении не отвергается\")"
      ],
      "metadata": {
        "colab": {
          "base_uri": "https://localhost:8080/"
        },
        "id": "PwJiZR3Zz7fL",
        "outputId": "227989fb-87f9-4878-8039-4af276f9f937"
      },
      "execution_count": null,
      "outputs": [
        {
          "output_type": "stream",
          "name": "stdout",
          "text": [
            "p_value = 0.7637\tГипотеза о равномерном распределении не отвергается\n",
            "p_value = 0.0983\tГипотеза о равномерном распределении не отвергается\n",
            "p_value = 0.1626\tГипотеза о равномерном распределении не отвергается\n",
            "p_value = 0.4466\tГипотеза о равномерном распределении не отвергается\n",
            "p_value = 0.6413\tГипотеза о равномерном распределении не отвергается\n",
            "p_value = 0.6475\tГипотеза о равномерном распределении не отвергается\n",
            "p_value = 0.8255\tГипотеза о равномерном распределении не отвергается\n",
            "p_value = 0.8935\tГипотеза о равномерном распределении не отвергается\n",
            "p_value = 0.5585\tГипотеза о равномерном распределении не отвергается\n",
            "p_value = 0.2393\tГипотеза о равномерном распределении не отвергается\n",
            "p_value = 0.3736\tГипотеза о равномерном распределении не отвергается\n",
            "p_value = 0.6288\tГипотеза о равномерном распределении не отвергается\n",
            "p_value = 0.3994\tГипотеза о равномерном распределении не отвергается\n",
            "p_value = 0.6931\tГипотеза о равномерном распределении не отвергается\n",
            "p_value = 0.4983\tГипотеза о равномерном распределении не отвергается\n",
            "p_value = 0.6392\tГипотеза о равномерном распределении не отвергается\n",
            "p_value = 0.2088\tГипотеза о равномерном распределении не отвергается\n",
            "p_value = 0.4428\tГипотеза о равномерном распределении не отвергается\n",
            "p_value = 0.5003\tГипотеза о равномерном распределении не отвергается\n",
            "p_value = 0.4731\tГипотеза о равномерном распределении не отвергается\n"
          ]
        }
      ]
    },
    {
      "cell_type": "code",
      "source": [
        "import numpy as np\n",
        "import time\n",
        "import matplotlib.pyplot as plt\n",
        "\n",
        "\n",
        "times = {}\n",
        "for num in np.logspace(3, 7, 5, dtype=np.int32):\n",
        "    start_time = time.time()\n",
        "    for i in range(num):\n",
        "        mt.random_int()\n",
        "    # sample = [mt.random_int() for _ in range(num)]\n",
        "    end_time = time.time()\n",
        "    times[num] = end_time - start_time\n",
        "\n",
        "times"
      ],
      "metadata": {
        "colab": {
          "base_uri": "https://localhost:8080/"
        },
        "id": "xYFKoLcVGqq2",
        "outputId": "ffaf11a7-3de1-4a42-f02a-b12bb4258a34"
      },
      "execution_count": null,
      "outputs": [
        {
          "output_type": "execute_result",
          "data": {
            "text/plain": [
              "{1000: 0.02030158042907715,\n",
              " 10000: 0.21507859230041504,\n",
              " 100000: 1.9714655876159668,\n",
              " 1000000: 15.737054586410522,\n",
              " 10000000: 124.50293397903442}"
            ]
          },
          "metadata": {},
          "execution_count": 38
        }
      ]
    },
    {
      "cell_type": "code",
      "source": [
        "times_stdlib = {}\n",
        "for num in np.logspace(3, 7, 5, dtype=np.int32):\n",
        "    start_time = time.time()\n",
        "    for i in range(num):\n",
        "        random.randint(0, 2**32)\n",
        "    # sample = [random.randint(0, 5000) for _ in range(num)]\n",
        "    end_time = time.time()\n",
        "    times_stdlib[num] = end_time - start_time\n",
        "\n",
        "times_stdlib"
      ],
      "metadata": {
        "colab": {
          "base_uri": "https://localhost:8080/"
        },
        "id": "XQ4H0uxJ0CKG",
        "outputId": "e52871cc-af08-4ab5-e6ac-a008adcc61a8"
      },
      "execution_count": null,
      "outputs": [
        {
          "output_type": "execute_result",
          "data": {
            "text/plain": [
              "{1000: 0.0011317729949951172,\n",
              " 10000: 0.013479232788085938,\n",
              " 100000: 0.11182618141174316,\n",
              " 1000000: 1.114811658859253,\n",
              " 10000000: 12.42997694015503}"
            ]
          },
          "metadata": {},
          "execution_count": 39
        }
      ]
    },
    {
      "cell_type": "code",
      "source": [],
      "metadata": {
        "id": "IrDJNztm9Ipy"
      },
      "execution_count": null,
      "outputs": []
    }
  ]
}