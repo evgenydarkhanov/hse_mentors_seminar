{
  "nbformat": 4,
  "nbformat_minor": 0,
  "metadata": {
    "colab": {
      "provenance": []
    },
    "kernelspec": {
      "name": "python3",
      "display_name": "Python 3"
    },
    "language_info": {
      "name": "python"
    }
  },
  "cells": [
    {
      "cell_type": "code",
      "source": [
        "%%capture\n",
        "!pip install vrplib"
      ],
      "metadata": {
        "id": "wYZ5u26Kg0lM"
      },
      "execution_count": null,
      "outputs": []
    },
    {
      "cell_type": "code",
      "source": [
        "!wget -P /content http://vrp.atd-lab.inf.puc-rio.br/media/com_vrp/instances/Vrp-Set-A.zip\n",
        "!wget -P /content http://vrp.atd-lab.inf.puc-rio.br/media/com_vrp/instances/Vrp-Set-B.zip\n",
        "!wget -P /content http://vrp.atd-lab.inf.puc-rio.br/media/com_vrp/instances/Vrp-Set-E.zip"
      ],
      "metadata": {
        "id": "G8q8LdYGAnky"
      },
      "execution_count": null,
      "outputs": []
    },
    {
      "cell_type": "code",
      "source": [
        "import vrplib\n",
        "import zipfile\n",
        "import numpy as np\n",
        "import re\n",
        "import matplotlib.pyplot as plt\n",
        "import copy"
      ],
      "metadata": {
        "id": "FyrH9ymQg3XR"
      },
      "execution_count": null,
      "outputs": []
    },
    {
      "cell_type": "code",
      "source": [
        "# setA\n",
        "urlA = 'http://vrp.atd-lab.inf.puc-rio.br/media/com_vrp/instances/Vrp-Set-A.zip'\n",
        "\n",
        "filename = urlA.split('/')[-1]\n",
        "\n",
        "archive = filename\n",
        "\n",
        "with zipfile.ZipFile(archive, 'r') as myzip:\n",
        "    myzip.extractall('.')\n",
        "    tmp = myzip.namelist()[::-1]\n",
        "    instances_A = tmp[1::2]\n",
        "    solutions_A = tmp[::2]\n",
        "    instances_A[-1], solutions_A[-2] = solutions_A[-2], instances_A[-1]\n",
        "    solutions_A.pop()"
      ],
      "metadata": {
        "id": "iEyS2Ms-E2U6"
      },
      "execution_count": null,
      "outputs": []
    },
    {
      "cell_type": "code",
      "source": [
        "# setB\n",
        "urlB = 'http://vrp.atd-lab.inf.puc-rio.br/media/com_vrp/instances/Vrp-Set-B.zip'\n",
        "\n",
        "filename = urlB.split('/')[-1]\n",
        "\n",
        "archive = filename\n",
        "\n",
        "with zipfile.ZipFile(archive, 'r') as myzip:\n",
        "    myzip.extractall('.')\n",
        "    tmp = myzip.namelist()[::-1]\n",
        "    instances_B = []\n",
        "    solutions_B = []\n",
        "    for elem in tmp:\n",
        "        if elem[-3:] == 'vrp':\n",
        "            instances_B.append(elem)\n",
        "        elif elem[-3:] == 'sol':\n",
        "            solutions_B.append(elem)"
      ],
      "metadata": {
        "id": "zgOn1_LmlXcK"
      },
      "execution_count": null,
      "outputs": []
    },
    {
      "cell_type": "code",
      "source": [
        "# setE\n",
        "urlE = 'http://vrp.atd-lab.inf.puc-rio.br/media/com_vrp/instances/Vrp-Set-E.zip'\n",
        "\n",
        "filename = urlE.split('/')[-1]\n",
        "\n",
        "archive = filename\n",
        "\n",
        "with zipfile.ZipFile(archive, 'r') as myzip:\n",
        "    myzip.extractall('.')\n",
        "    tmp = myzip.namelist()[::-1]\n",
        "    instances_E = []\n",
        "    solutions_E = []\n",
        "    for elem in tmp:\n",
        "        if elem[-3:] == 'vrp':\n",
        "            instances_E.append(elem)\n",
        "        elif elem[-3:] == 'sol':\n",
        "            solutions_E.append(elem)"
      ],
      "metadata": {
        "id": "RHVxfilij3sS"
      },
      "execution_count": null,
      "outputs": []
    },
    {
      "cell_type": "code",
      "source": [
        "def cars(cvrp_problem: dict):\n",
        "    cars, optimal = map(int, re.findall('\\d+', cvrp_problem['comment']))\n",
        "    return cars\n",
        "\n",
        "def min_distance(cvrp_problem: dict):\n",
        "    distances = cvrp_problem['edge_weight']\n",
        "    minimum = distances[0][1]\n",
        "    for i in range(len(distances)):\n",
        "        for j in range(i, len(distances[0])):\n",
        "            if 0 < distances[i][j] < minimum:\n",
        "                minimum = distances[i][j]\n",
        "    return minimum"
      ],
      "metadata": {
        "id": "ZsJmB1VxkdNg"
      },
      "execution_count": null,
      "outputs": []
    },
    {
      "cell_type": "code",
      "execution_count": null,
      "metadata": {
        "id": "Jcr3ojIBgKxM"
      },
      "outputs": [],
      "source": [
        "class Ants:\n",
        "    def __init__(self, instance, num_vertices, num_ants, alpha, beta, q0, tau_0, ITERATIONS):\n",
        "        self.instance = instance\n",
        "        self.num_vertices = num_vertices\n",
        "        self.num_ants = num_ants\n",
        "        self.alpha = alpha\n",
        "        self.beta = beta\n",
        "        self.q0 = q0\n",
        "        self.tau_0 = tau_0\n",
        "        self.ITERATIONS = ITERATIONS\n",
        "\n",
        "    def _pheromones_init(self):\n",
        "        result = np.ones_like(self.instance['edge_weight']) * self.tau_0\n",
        "        for i in range(len(result)):\n",
        "            result[i][i] = 0\n",
        "        return result\n",
        "\n",
        "    def _local_pheromones_update(self, ant_route, len_route):\n",
        "        for i in range(len(ant_route) - 1):\n",
        "            # tau_0 = ((self.num_vertices + 1) * len_route) ** (-1) # adaptive tau_0?\n",
        "            tau = self.pheromones[ant_route[i]][ant_route[i+1]]\n",
        "            self.pheromones[ant_route[i]][ant_route[i+1]] = (1 - self.alpha) * tau + self.alpha * self.tau_0\n",
        "            self.pheromones[ant_route[i+1]][ant_route[i]] = self.pheromones[ant_route[i]][ant_route[i+1]]\n",
        "        return self.pheromones\n",
        "\n",
        "    def _global_pheromones_update(self, ant_routes, len_routes):\n",
        "        best_len = min(len_routes)\n",
        "        best_index = len_routes.index(best_len)\n",
        "        best_route = ant_routes[best_index]\n",
        "        for i in range(len(best_route) - 1):\n",
        "            tau = self.pheromones[best_route[i]][best_route[i+1]]\n",
        "            self.pheromones[best_route[i]][best_route[i+1]] = (1 - self.alpha) * tau + self.alpha / best_len\n",
        "            self.pheromones[best_route[i+1]][best_route[i]] = self.pheromones[best_route[i]][best_route[i+1]]\n",
        "        return self.pheromones\n",
        "\n",
        "    def _select_next_vertex(self, current_vertex, visited_vertices):\n",
        "        unvisited_vertices = [vertex for vertex in range(self.num_vertices) if vertex not in visited_vertices]\n",
        "        probabilities = [self.pheromones[current_vertex][next_vertex] * (1 / self.instance['edge_weight'][current_vertex][next_vertex]) ** self.beta for next_vertex in unvisited_vertices]\n",
        "        # probabilities = np.nan_to_num(probabilities) # not good\n",
        "        tmp = np.argmax(probabilities)\n",
        "        if len(unvisited_vertices) > 1:\n",
        "            probabilities[tmp] = 0\n",
        "            probabilities /= np.sum(probabilities)\n",
        "            probabilities *= (1 - self.q0)\n",
        "            probabilities[tmp] = self.q0\n",
        "            next_vertex = np.random.choice(unvisited_vertices, p=probabilities)\n",
        "        else:\n",
        "            next_vertex = unvisited_vertices[tmp]\n",
        "        return next_vertex\n",
        "\n",
        "    def _next_vertex_demand(self, next_vertex):\n",
        "        demand = self.instance['demand'][next_vertex]\n",
        "        return demand\n",
        "\n",
        "    def _distance_between(self, current_vertex, next_vertex):\n",
        "        distance = self.instance['edge_weight'][current_vertex][next_vertex]\n",
        "        return distance\n",
        "\n",
        "    def run(self):\n",
        "        np.random.seed(100)\n",
        "        self.pheromones = self._pheromones_init()\n",
        "        for i in range(self.ITERATIONS):\n",
        "            self.ant_routes = []\n",
        "            self.len_routes = []\n",
        "            depot = 0\n",
        "            self.visited_vertices = [depot]\n",
        "\n",
        "            for ant in range(self.num_ants):\n",
        "                self.current_vertex = depot\n",
        "                self.ant_route = [self.current_vertex]\n",
        "\n",
        "                len_route = 0\n",
        "                next_demand = 0\n",
        "                capacity = self.instance['capacity']\n",
        "\n",
        "                while len(self.visited_vertices) < self.num_vertices:\n",
        "                    next_vertex = self._select_next_vertex(self.current_vertex, self.visited_vertices)\n",
        "                    next_demand = self._next_vertex_demand(next_vertex)\n",
        "                    if next_demand > capacity:\n",
        "                        break\n",
        "\n",
        "                    self.ant_route.append(next_vertex)\n",
        "                    self.visited_vertices.append(next_vertex)\n",
        "                    len_route += self._distance_between(self.current_vertex, next_vertex)\n",
        "                    capacity -= next_demand\n",
        "                    self.current_vertex = next_vertex\n",
        "\n",
        "                self.ant_route.append(0)\n",
        "                len_route += self._distance_between(self.current_vertex, 0)\n",
        "                self.ant_routes.append(self.ant_route)\n",
        "                self.len_routes.append(len_route)\n",
        "\n",
        "                self._local_pheromones_update(self.ant_route, len_route)\n",
        "\n",
        "            self._global_pheromones_update(self.ant_routes, self.len_routes)\n",
        "\n",
        "        return self\n",
        "\n",
        "        def ant_routes(self):\n",
        "            return self.ant_routes\n",
        "\n",
        "        def len_routes(self):\n",
        "            return self.len_routes"
      ]
    },
    {
      "cell_type": "code",
      "source": [
        "def drawing_ants(ant_routes, num_ants, cvrp_problem):\n",
        "    nodes_coord = dict()\n",
        "    for i in range(cvrp_problem['dimension']):\n",
        "        nodes_coord[i] = cvrp_problem['node_coord'][i]\n",
        "\n",
        "    draw_depot = cvrp_problem['node_coord'][0]\n",
        "    x = cvrp_problem['node_coord'][1:, 0]\n",
        "    y = cvrp_problem['node_coord'][1:, 1]\n",
        "\n",
        "    plt.figure(figsize=(8, 6))\n",
        "\n",
        "    plt.scatter(*draw_depot, color='red', linewidth=8)\n",
        "    plt.scatter(x, y)\n",
        "\n",
        "    ant_routes_draw = copy.deepcopy(ant_routes)\n",
        "\n",
        "    colours = ['blue', 'red', 'green', 'orange', 'purple']\n",
        "\n",
        "    for i in range(num_ants):\n",
        "        line_x = []\n",
        "        line_y = []\n",
        "        for elem in ant_routes_draw[i]:\n",
        "            line_x.append(list(nodes_coord[elem])[0])\n",
        "            line_y.append(list(nodes_coord[elem])[1])\n",
        "            if num_ants <= len(colours):\n",
        "                plt.plot(line_x, line_y, color = colours[i], linestyle='dashed')\n",
        "            else:\n",
        "                plt.plot(line_x, line_y, linestyle='dashed')\n",
        "\n",
        "    plt.grid()\n",
        "    plt.show()"
      ],
      "metadata": {
        "id": "n88_eZ__qVnH"
      },
      "execution_count": null,
      "outputs": []
    },
    {
      "cell_type": "code",
      "source": [
        "def running_ants(instances, alpha, beta, q0, ITERATIONS):\n",
        "    costs_ants = []\n",
        "    for elem in instances:\n",
        "        instance = vrplib.read_instance(elem)\n",
        "        num_vertices = instance['dimension']\n",
        "        num_ants = cars(instance)\n",
        "        tau_0 = ((num_vertices + 1)* min_distance(instance)) ** (-1)\n",
        "\n",
        "        ant = Ants(instance, num_vertices, num_ants, alpha, beta, q0, tau_0, ITERATIONS)\n",
        "        ant.run()\n",
        "        costs_ants.append(np.sum(ant.len_routes))\n",
        "\n",
        "    return costs_ants"
      ],
      "metadata": {
        "id": "SLBffi14JhXH"
      },
      "execution_count": null,
      "outputs": []
    },
    {
      "cell_type": "code",
      "source": [
        "%%time\n",
        "Set_A_result = running_ants(instances_A, alpha=0.2, beta=2.5, q0=0.9, ITERATIONS=1000)\n",
        "Set_A_result"
      ],
      "metadata": {
        "id": "RcDvErPBNwga"
      },
      "execution_count": null,
      "outputs": []
    },
    {
      "cell_type": "code",
      "source": [
        "%%time\n",
        "Set_B_result = running_ants(instances_B, alpha=0.9, beta=2, q0=0.9, ITERATIONS=1000)\n",
        "Set_B_result"
      ],
      "metadata": {
        "id": "2fkRWcKe64sj"
      },
      "execution_count": null,
      "outputs": []
    },
    {
      "cell_type": "code",
      "source": [
        "%%time\n",
        "Set_E_result = running_ants(instances_E, alpha=0.3, beta=2.4, q0=0.9, ITERATIONS=1000)\n",
        "Set_E_result"
      ],
      "metadata": {
        "id": "_5AP83RW0cxV"
      },
      "execution_count": null,
      "outputs": []
    },
    {
      "cell_type": "code",
      "source": [
        "def diff(a, b):\n",
        "    result = abs(a - b) / a\n",
        "    return result\n",
        "\n",
        "def plotting(solutions, instances, result, text):\n",
        "    dimensions = []\n",
        "    for elem in instances:\n",
        "        dimensions.append(vrplib.read_instance(elem)['dimension'])\n",
        "\n",
        "    costs_optimal = []\n",
        "    for elem in solutions:\n",
        "        costs_optimal.append(vrplib.read_solution(elem)['cost'])\n",
        "\n",
        "    diffes = []\n",
        "    for i in range(len(costs_optimal)):\n",
        "        diffes.append(diff(costs_optimal[i], result[i]))\n",
        "\n",
        "    plt.figure(figsize=(8, 6))\n",
        "    plt.plot(dimensions, diffes)\n",
        "    plt.title(text)\n",
        "    plt.xlabel('nodes', size=14)\n",
        "    plt.ylabel('error', size=14)\n",
        "    plt.grid()\n",
        "    plt.show()\n",
        "\n",
        "def plotting_scatter(solutions, instances, result, text):\n",
        "    dimensions = []\n",
        "    for elem in instances:\n",
        "        dimensions.append(vrplib.read_instance(elem)['dimension'])\n",
        "\n",
        "    costs_optimal = []\n",
        "    for elem in solutions:\n",
        "        costs_optimal.append(vrplib.read_solution(elem)['cost'])\n",
        "\n",
        "    diffes = []\n",
        "    for i in range(len(costs_optimal)):\n",
        "        diffes.append(diff(costs_optimal[i], result[i]))\n",
        "\n",
        "    plt.figure(figsize=(8, 6))\n",
        "    plt.scatter(dimensions, diffes)\n",
        "    plt.title(text)\n",
        "    plt.xlabel('nodes', size=14)\n",
        "    plt.ylabel('error', size=14)\n",
        "    plt.grid()\n",
        "    plt.show()\n",
        "\n",
        "def plotting_hybrid(solutions, instances, result, text):\n",
        "    dimensions = []\n",
        "    for elem in instances:\n",
        "        dimensions.append(vrplib.read_instance(elem)['dimension'])\n",
        "\n",
        "    costs_optimal = []\n",
        "    for elem in solutions:\n",
        "        costs_optimal.append(vrplib.read_solution(elem)['cost'])\n",
        "\n",
        "    diffes = []\n",
        "    for i in range(len(costs_optimal)):\n",
        "        diffes.append(diff(costs_optimal[i], result[i]))\n",
        "\n",
        "    plt.figure(figsize=(8, 6))\n",
        "    plt.scatter(dimensions, diffes, linewidths=1)\n",
        "    plt.plot(dimensions, diffes)\n",
        "    plt.title(text)\n",
        "    plt.xlabel('nodes', size=14)\n",
        "    plt.ylabel('error', size=14)\n",
        "    plt.grid()\n",
        "    plt.show()"
      ],
      "metadata": {
        "id": "RMaXCAH0QDFs"
      },
      "execution_count": null,
      "outputs": []
    },
    {
      "cell_type": "code",
      "source": [
        "plotting_hybrid(solutions_A, instances_A, Set_A_result, 'Set A, 4min 47s')"
      ],
      "metadata": {
        "id": "ue_H1I-h-Ev_"
      },
      "execution_count": null,
      "outputs": []
    },
    {
      "cell_type": "code",
      "source": [
        "plotting_scatter(solutions_B, instances_B, Set_B_result, 'Set B, 4min 4s')"
      ],
      "metadata": {
        "id": "2GV3TGZg6kk1"
      },
      "execution_count": null,
      "outputs": []
    },
    {
      "cell_type": "code",
      "source": [
        "plotting_scatter(solutions_E, instances_E, Set_E_result, 'Set E, 3min 3s')"
      ],
      "metadata": {
        "id": "ErOqXv_ZSiIK"
      },
      "execution_count": null,
      "outputs": []
    },
    {
      "cell_type": "code",
      "source": [],
      "metadata": {
        "id": "OGg0B0zL6knL"
      },
      "execution_count": null,
      "outputs": []
    }
  ]
}